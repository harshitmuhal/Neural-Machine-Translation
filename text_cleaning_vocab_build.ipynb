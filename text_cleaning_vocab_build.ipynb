{
 "cells": [
  {
   "cell_type": "code",
   "execution_count": 163,
   "metadata": {},
   "outputs": [],
   "source": [
    "import numpy as np \n",
    "import pandas as pd \n",
    "import string\n",
    "import re\n",
    "import json"
   ]
  },
  {
   "cell_type": "code",
   "execution_count": 151,
   "metadata": {},
   "outputs": [
    {
     "name": "stdout",
     "output_type": "stream",
     "text": [
      "(127607, 3)\n"
     ]
    }
   ],
   "source": [
    "df=pd.read_csv('Hindi_English_Truncated_Corpus.csv')\n",
    "print(df.shape)"
   ]
  },
  {
   "cell_type": "code",
   "execution_count": 152,
   "metadata": {},
   "outputs": [
    {
     "name": "stdout",
     "output_type": "stream",
     "text": [
      "(38803, 3)\n"
     ]
    }
   ],
   "source": [
    "df.drop_duplicates(inplace=True) \n",
    "df=df[df['source']=='ted']\n",
    "print(df.shape)"
   ]
  },
  {
   "cell_type": "code",
   "execution_count": 153,
   "metadata": {},
   "outputs": [
    {
     "data": {
      "text/html": [
       "<div>\n",
       "<style scoped>\n",
       "    .dataframe tbody tr th:only-of-type {\n",
       "        vertical-align: middle;\n",
       "    }\n",
       "\n",
       "    .dataframe tbody tr th {\n",
       "        vertical-align: top;\n",
       "    }\n",
       "\n",
       "    .dataframe thead th {\n",
       "        text-align: right;\n",
       "    }\n",
       "</style>\n",
       "<table border=\"1\" class=\"dataframe\">\n",
       "  <thead>\n",
       "    <tr style=\"text-align: right;\">\n",
       "      <th></th>\n",
       "      <th>english_sentence</th>\n",
       "      <th>hindi_sentence</th>\n",
       "    </tr>\n",
       "  </thead>\n",
       "  <tbody>\n",
       "    <tr>\n",
       "      <th>0</th>\n",
       "      <td>We still don't know who her parents are, who she is.</td>\n",
       "      <td>हम अभी तक नहीं जानते हैं कि उसके माता-पिता कौन हैं, वह कौन है,</td>\n",
       "    </tr>\n",
       "    <tr>\n",
       "      <th>1</th>\n",
       "      <td>no keyboard,</td>\n",
       "      <td>कोई कुंजीपटल नहीं,</td>\n",
       "    </tr>\n",
       "    <tr>\n",
       "      <th>2</th>\n",
       "      <td>But as far as being a performer,</td>\n",
       "      <td>लेकिन एक कलाकार होने के साथ</td>\n",
       "    </tr>\n",
       "    <tr>\n",
       "      <th>3</th>\n",
       "      <td>And this particular balloon,</td>\n",
       "      <td>और यह खास गुब्बारा,</td>\n",
       "    </tr>\n",
       "    <tr>\n",
       "      <th>4</th>\n",
       "      <td>and it's not as hard as you think. Integrate climate solutions into all of your innovations,</td>\n",
       "      <td>और जितना आपको लगता है, यह उतना कठिन नहीं है.अपने सभी नवाचारों में जलवायु समाधान को एकीकृत करें,</td>\n",
       "    </tr>\n",
       "    <tr>\n",
       "      <th>5</th>\n",
       "      <td>and saw the demo by Jeff Han</td>\n",
       "      <td>और जेफ़ हान द्वारा प्रदर्शन देखा होगा</td>\n",
       "    </tr>\n",
       "    <tr>\n",
       "      <th>6</th>\n",
       "      <td>This baby is fully electric.</td>\n",
       "      <td>यह बच्चा पूरी तरह से बिजली से चलता है.</td>\n",
       "    </tr>\n",
       "    <tr>\n",
       "      <th>7</th>\n",
       "      <td>kids have no, or very little, say in making the rules,</td>\n",
       "      <td>फिर भी बच्चों को नियम बनाने का बिलकुल नहीं, या बहुत कम, मौका मिलता है</td>\n",
       "    </tr>\n",
       "    <tr>\n",
       "      <th>8</th>\n",
       "      <td>I'm going to add a little bit to my description of aging.</td>\n",
       "      <td>मै अपने द्वारा दिए गए उम्र के बढ़्ने के विवर्ण की कुछ व्याख्या करूंगा.</td>\n",
       "    </tr>\n",
       "    <tr>\n",
       "      <th>9</th>\n",
       "      <td>expands and cools until it gets to the point where it becomes transparent,</td>\n",
       "      <td>फैलने लगता है, फिर ये ठंडा होकर उस अवस्था तक पहुँच जाता है, जब ये पारदर्शी बन जाता है,</td>\n",
       "    </tr>\n",
       "  </tbody>\n",
       "</table>\n",
       "</div>"
      ],
      "text/plain": [
       "                                                                               english_sentence                                                                                   hindi_sentence\n",
       "0  We still don't know who her parents are, who she is.                                          हम अभी तक नहीं जानते हैं कि उसके माता-पिता कौन हैं, वह कौन है,                                 \n",
       "1  no keyboard,                                                                                  कोई कुंजीपटल नहीं,                                                                             \n",
       "2  But as far as being a performer,                                                              लेकिन एक कलाकार होने के साथ                                                                    \n",
       "3  And this particular balloon,                                                                  और यह खास गुब्बारा,                                                                            \n",
       "4  and it's not as hard as you think. Integrate climate solutions into all of your innovations,  और जितना आपको लगता है, यह उतना कठिन नहीं है.अपने सभी नवाचारों में जलवायु समाधान को एकीकृत करें,\n",
       "5  and saw the demo by Jeff Han                                                                  और जेफ़ हान द्वारा प्रदर्शन देखा होगा                                                          \n",
       "6  This baby is fully electric.                                                                  यह बच्चा पूरी तरह से बिजली से चलता है.                                                         \n",
       "7  kids have no, or very little, say in making the rules,                                        फिर भी बच्चों को नियम बनाने का बिलकुल नहीं, या बहुत कम, मौका मिलता है                          \n",
       "8  I'm going to add a little bit to my description of aging.                                     मै अपने द्वारा दिए गए उम्र के बढ़्ने के विवर्ण की कुछ व्याख्या करूंगा.                         \n",
       "9  expands and cools until it gets to the point where it becomes transparent,                    फैलने लगता है, फिर ये ठंडा होकर उस अवस्था तक पहुँच जाता है, जब ये पारदर्शी बन जाता है,         "
      ]
     },
     "execution_count": 153,
     "metadata": {},
     "output_type": "execute_result"
    }
   ],
   "source": [
    "df=df.sample(25000,random_state=42)\n",
    "df=df.drop(columns=['source'],axis=1)\n",
    "df.reset_index(drop=True,inplace=True)\n",
    "df.head(n=10)"
   ]
  },
  {
   "cell_type": "markdown",
   "metadata": {},
   "source": [
    "### Data cleaning"
   ]
  },
  {
   "cell_type": "code",
   "execution_count": 154,
   "metadata": {},
   "outputs": [],
   "source": [
    "def remove_punctuations(x):\n",
    "    punct=set(string.punctuation)\n",
    "    for ch in punct:\n",
    "        x=x.replace(ch,'')\n",
    "    return x\n",
    "def clean_data(df):\n",
    "    #lower_case \n",
    "    df['english_sentence']= df['english_sentence'].apply(lambda x: x.lower())\n",
    "    df['hindi_sentence']= df['hindi_sentence'].apply(lambda x: x.lower())\n",
    "    #punctuation removal\n",
    "    punct=set(string.punctuation)\n",
    "    df['english_sentence']= df['english_sentence'].apply(remove_punctuations)\n",
    "    df['hindi_sentence']= df['hindi_sentence'].apply(remove_punctuations)\n",
    "    #remove digits\n",
    "    df['hindi_sentence'] = df['hindi_sentence'].apply(lambda x: re.sub(\"[२३०८१५७९४६]\", \"\" , x))\n",
    "    df['hindi_sentence'] = df['hindi_sentence'].apply(lambda x: re.sub(\"[0123456789]\", \"\" , x))\n",
    "    df['english_sentence'] = df['english_sentence'].apply(lambda x: re.sub(\"[0123456789]\", \"\" , x))\n",
    "    #remove extra white space \n",
    "    df['hindi_sentence'] = df['hindi_sentence'].apply(lambda x: \" \".join(x.split()))\n",
    "    df['english_sentence'] = df['english_sentence'].apply(lambda x: \" \".join(x.split()))\n",
    "    # Add start and end tokens\n",
    "    df['hindi_sentence'] = df['hindi_sentence'].apply(lambda x: '<start> '+x+' <end>')\n",
    "    return df"
   ]
  },
  {
   "cell_type": "code",
   "execution_count": 155,
   "metadata": {},
   "outputs": [
    {
     "data": {
      "text/html": [
       "<div>\n",
       "<style scoped>\n",
       "    .dataframe tbody tr th:only-of-type {\n",
       "        vertical-align: middle;\n",
       "    }\n",
       "\n",
       "    .dataframe tbody tr th {\n",
       "        vertical-align: top;\n",
       "    }\n",
       "\n",
       "    .dataframe thead th {\n",
       "        text-align: right;\n",
       "    }\n",
       "</style>\n",
       "<table border=\"1\" class=\"dataframe\">\n",
       "  <thead>\n",
       "    <tr style=\"text-align: right;\">\n",
       "      <th></th>\n",
       "      <th>english_sentence</th>\n",
       "      <th>hindi_sentence</th>\n",
       "    </tr>\n",
       "  </thead>\n",
       "  <tbody>\n",
       "    <tr>\n",
       "      <th>0</th>\n",
       "      <td>we still dont know who her parents are who she is</td>\n",
       "      <td>&lt;start&gt; हम अभी तक नहीं जानते हैं कि उसके मातापिता कौन हैं वह कौन है &lt;end&gt;</td>\n",
       "    </tr>\n",
       "    <tr>\n",
       "      <th>1</th>\n",
       "      <td>no keyboard</td>\n",
       "      <td>&lt;start&gt; कोई कुंजीपटल नहीं &lt;end&gt;</td>\n",
       "    </tr>\n",
       "    <tr>\n",
       "      <th>2</th>\n",
       "      <td>but as far as being a performer</td>\n",
       "      <td>&lt;start&gt; लेकिन एक कलाकार होने के साथ &lt;end&gt;</td>\n",
       "    </tr>\n",
       "    <tr>\n",
       "      <th>3</th>\n",
       "      <td>and this particular balloon</td>\n",
       "      <td>&lt;start&gt; और यह खास गुब्बारा &lt;end&gt;</td>\n",
       "    </tr>\n",
       "    <tr>\n",
       "      <th>4</th>\n",
       "      <td>and its not as hard as you think integrate climate solutions into all of your innovations</td>\n",
       "      <td>&lt;start&gt; और जितना आपको लगता है यह उतना कठिन नहीं हैअपने सभी नवाचारों में जलवायु समाधान को एकीकृत करें &lt;end&gt;</td>\n",
       "    </tr>\n",
       "  </tbody>\n",
       "</table>\n",
       "</div>"
      ],
      "text/plain": [
       "                                                                            english_sentence                                                                                              hindi_sentence\n",
       "0  we still dont know who her parents are who she is                                          <start> हम अभी तक नहीं जानते हैं कि उसके मातापिता कौन हैं वह कौन है <end>                                 \n",
       "1  no keyboard                                                                                <start> कोई कुंजीपटल नहीं <end>                                                                           \n",
       "2  but as far as being a performer                                                            <start> लेकिन एक कलाकार होने के साथ <end>                                                                 \n",
       "3  and this particular balloon                                                                <start> और यह खास गुब्बारा <end>                                                                          \n",
       "4  and its not as hard as you think integrate climate solutions into all of your innovations  <start> और जितना आपको लगता है यह उतना कठिन नहीं हैअपने सभी नवाचारों में जलवायु समाधान को एकीकृत करें <end>"
      ]
     },
     "execution_count": 155,
     "metadata": {},
     "output_type": "execute_result"
    }
   ],
   "source": [
    "df=clean_data(df)\n",
    "df.head()"
   ]
  },
  {
   "cell_type": "code",
   "execution_count": 156,
   "metadata": {},
   "outputs": [],
   "source": [
    "df.to_csv('cleaned_data.csv',index=False)"
   ]
  },
  {
   "cell_type": "code",
   "execution_count": 157,
   "metadata": {},
   "outputs": [],
   "source": [
    "df=pd.read_csv('cleaned_data.csv')"
   ]
  },
  {
   "cell_type": "markdown",
   "metadata": {},
   "source": [
    "### Vocab"
   ]
  },
  {
   "cell_type": "code",
   "execution_count": 158,
   "metadata": {},
   "outputs": [
    {
     "name": "stdout",
     "output_type": "stream",
     "text": [
      "14031 17540\n"
     ]
    }
   ],
   "source": [
    "eng_vocab=[]\n",
    "hindi_vocab=[]\n",
    "for i in range(len(df)):\n",
    "    row=df.iloc[i,:] \n",
    "    english=str(row['english_sentence'])\n",
    "    hindi=str(row['hindi_sentence'])\n",
    "    for w in english.split():\n",
    "        eng_vocab.append(w)\n",
    "    for w in hindi.split():\n",
    "        hindi_vocab.append(w)\n",
    "eng_vocab=set(eng_vocab)\n",
    "hindi_vocab=set(hindi_vocab)\n",
    "print(len(eng_vocab),len(hindi_vocab))"
   ]
  },
  {
   "cell_type": "code",
   "execution_count": 162,
   "metadata": {},
   "outputs": [],
   "source": [
    "word_to_idx_english={} \n",
    "for i,w in enumerate(eng_vocab):\n",
    "    word_to_idx_english[w]=i+1\n",
    "word_to_idx_hindi={}\n",
    "for i,w in enumerate(hindi_vocab):\n",
    "    word_to_idx_hindi[w]=i+1\n",
    "idx_to_word_english=dict([(i,w) for (w,i) in word_to_idx_english.items()])\n",
    "idx_to_word_hindi=dict([(i,w) for (w,i) in word_to_idx_hindi.items()])"
   ]
  },
  {
   "cell_type": "code",
   "execution_count": 167,
   "metadata": {},
   "outputs": [],
   "source": [
    "with open('word_to_idx_english.json','w') as f:\n",
    "    json.dump(word_to_idx_english,f)\n",
    "with open('word_to_idx_hindi.json','w') as f:\n",
    "    json.dump(word_to_idx_hindi,f)\n",
    "with open('idx_to_word_english.json','w') as f:\n",
    "    json.dump(idx_to_word_english,f)\n",
    "with open('idx_to_word_hindi.json','w') as f:\n",
    "    json.dump(idx_to_word_hindi,f)"
   ]
  },
  {
   "cell_type": "code",
   "execution_count": null,
   "metadata": {},
   "outputs": [],
   "source": []
  }
 ],
 "metadata": {
  "kernelspec": {
   "display_name": "Python 3",
   "language": "python",
   "name": "python3"
  },
  "language_info": {
   "codemirror_mode": {
    "name": "ipython",
    "version": 3
   },
   "file_extension": ".py",
   "mimetype": "text/x-python",
   "name": "python",
   "nbconvert_exporter": "python",
   "pygments_lexer": "ipython3",
   "version": "3.7.6"
  }
 },
 "nbformat": 4,
 "nbformat_minor": 4
}
