{
 "cells": [
  {
   "cell_type": "code",
   "execution_count": null,
   "metadata": {},
   "outputs": [],
   "source": []
  },
  {
   "cell_type": "code",
   "execution_count": 1,
   "metadata": {
    "id": "suJUdyawW8kd"
   },
   "outputs": [],
   "source": [
    "import numpy as np \n",
    "import pandas as pd \n",
    "import json\n",
    "from sklearn.model_selection import train_test_split\n",
    "from tensorflow.keras.utils import plot_model\n",
    "from tensorflow.keras.layers import *\n",
    "from tensorflow.keras.models import Model\n",
    "import time\n",
    "from keras.optimizers import Adam"
   ]
  },
  {
   "cell_type": "code",
   "execution_count": 3,
   "metadata": {
    "colab": {
     "base_uri": "https://localhost:8080/",
     "height": 54
    },
    "id": "2-JgUvAnXefR",
    "outputId": "315ad900-d6fe-4436-fe65-2d75137a9514"
   },
   "outputs": [],
   "source": [
    "from google.colab import drive\n",
    "drive.mount('/content/drive')"
   ]
  },
  {
   "cell_type": "code",
   "execution_count": 4,
   "metadata": {
    "id": "86OwCSASW8ky"
   },
   "outputs": [],
   "source": [
    "df=pd.read_csv('drive/My Drive/NMT/cleaned_data.csv')"
   ]
  },
  {
   "cell_type": "code",
   "execution_count": null,
   "metadata": {
    "id": "a1J9krLGW8lH"
   },
   "outputs": [],
   "source": [
    "with open('drive/My Drive/NMT/word_to_idx_english.json','r') as f:\n",
    "    word_to_idx_english=json.load(f)\n",
    "with open('drive/My Drive/NMT/word_to_idx_hindi.json','r') as f:\n",
    "    word_to_idx_hindi=json.load(f)\n",
    "with open('drive/My Drive/NMT/idx_to_word_english.json','r') as f:\n",
    "    idx_to_word_english=json.load(f)\n",
    "with open('drive/My Drive/NMT/idx_to_word_hindi.json','r') as f:\n",
    "    idx_to_word_hindi=json.load(f)"
   ]
  },
  {
   "cell_type": "code",
   "execution_count": 30,
   "metadata": {
    "colab": {
     "base_uri": "https://localhost:8080/",
     "height": 34
    },
    "id": "g1kwiTzOW8lU",
    "outputId": "6b7a2bb8-9256-4432-b587-98b525414f23"
   },
   "outputs": [
    {
     "name": "stdout",
     "output_type": "stream",
     "text": [
      "20 30\n"
     ]
    }
   ],
   "source": [
    "max_length_eng=0\n",
    "for x in df['english_sentence']:\n",
    "    max_length_eng=max(max_length_eng,len(str(x).split()))\n",
    "max_length_hindi=0\n",
    "for x in df['hindi_sentence']:\n",
    "    max_length_hindi=max(max_length_hindi,len(str(x).split()))\n",
    "print(max_length_eng,max_length_hindi)"
   ]
  },
  {
   "cell_type": "code",
   "execution_count": 31,
   "metadata": {
    "id": "TbPEdtn2W8lf"
   },
   "outputs": [],
   "source": [
    "num_encoder_tokens = len(word_to_idx_english) \n",
    "num_decoder_tokens = len(word_to_idx_hindi) "
   ]
  },
  {
   "cell_type": "code",
   "execution_count": 32,
   "metadata": {
    "colab": {
     "base_uri": "https://localhost:8080/",
     "height": 34
    },
    "id": "NizV0fGFW8lm",
    "outputId": "db0892c2-efdd-41a2-84c1-120136172c76"
   },
   "outputs": [
    {
     "name": "stdout",
     "output_type": "stream",
     "text": [
      "14032 17541\n"
     ]
    }
   ],
   "source": [
    "num_decoder_tokens+=1\n",
    "num_encoder_tokens+=1\n",
    "#zero padding\n",
    "print(num_encoder_tokens,num_decoder_tokens)"
   ]
  },
  {
   "cell_type": "markdown",
   "metadata": {
    "id": "aL19EMaVW8lq"
   },
   "source": [
    "### Train and test split"
   ]
  },
  {
   "cell_type": "code",
   "execution_count": 9,
   "metadata": {
    "id": "UMAv-8yyW8ls"
   },
   "outputs": [],
   "source": [
    "x, y = df['english_sentence'], df['hindi_sentence']\n",
    "x, x_test, y, y_test = train_test_split(x, y, test_size = 0.2,random_state=42) \n",
    "df_test=pd.DataFrame(zip(x_test,y_test),columns=['english_sentence','hindi_sentence'])\n",
    "df_test.to_csv('test_data.csv',index=False)"
   ]
  },
  {
   "cell_type": "markdown",
   "metadata": {
    "id": "hshYzFtZW8l5"
   },
   "source": [
    "### Model Architecture"
   ]
  },
  {
   "cell_type": "code",
   "execution_count": 34,
   "metadata": {
    "id": "pM011B--W8l6"
   },
   "outputs": [],
   "source": [
    "dimension=300"
   ]
  },
  {
   "cell_type": "markdown",
   "metadata": {
    "id": "46cdtHjRW8l_"
   },
   "source": [
    "### Enocder"
   ]
  },
  {
   "cell_type": "code",
   "execution_count": 35,
   "metadata": {
    "id": "Bj37oRN7W8mA"
   },
   "outputs": [],
   "source": [
    "input_1=Input(shape=(None,))\n",
    "emb_1=Embedding(num_encoder_tokens,dimension,mask_zero=True)(input_1)\n",
    "_,state_h,state_c=LSTM(dimension,return_state=True)(emb_1)\n",
    "encoder_states=[state_h,state_c]"
   ]
  },
  {
   "cell_type": "markdown",
   "metadata": {
    "id": "DAywE85vW8mC"
   },
   "source": [
    "### Decoder"
   ]
  },
  {
   "cell_type": "code",
   "execution_count": 36,
   "metadata": {
    "id": "bYrwLxX-W8mD"
   },
   "outputs": [],
   "source": [
    "input_2=Input(shape=(None,))\n",
    "emb_2=Embedding(num_decoder_tokens,dimension,mask_zero=True)(input_2)\n",
    "lstm_out,_,_=LSTM(dimension,return_sequences=True,return_state=True)(emb_2,initial_state=encoder_states)\n",
    "out=Dense(num_decoder_tokens,activation='sigmoid')(lstm_out)\n",
    "# you can use 3D (or higher rank) data as input for a Dense layer but the input gets \n",
    "# flattened first .This means that if your input has shape (batch_size,sequence_length, dim), \n",
    "# then the dense layer will first flatten your data to\n",
    "# shape (batch_size * sequence_length, dim) and then apply a dense layer as usual. The output\n",
    "# will have shape (batch_size, sequence_length, hidden_units)."
   ]
  },
  {
   "cell_type": "markdown",
   "metadata": {
    "id": "A8tblsXEW8mJ"
   },
   "source": [
    "### Model"
   ]
  },
  {
   "cell_type": "code",
   "execution_count": 37,
   "metadata": {
    "id": "jjN8MipXW8mJ"
   },
   "outputs": [],
   "source": [
    "model=Model(inputs=[input_1,input_2],outputs=out)\n",
    "model.compile(optimizer='adam', loss='categorical_crossentropy')"
   ]
  },
  {
   "cell_type": "code",
   "execution_count": 38,
   "metadata": {
    "colab": {
     "base_uri": "https://localhost:8080/",
     "height": 425
    },
    "id": "JLPPcCoFW8mM",
    "outputId": "df6437ea-aff6-47ae-a3ce-99302a22f501"
   },
   "outputs": [
    {
     "name": "stdout",
     "output_type": "stream",
     "text": [
      "Model: \"functional_3\"\n",
      "__________________________________________________________________________________________________\n",
      "Layer (type)                    Output Shape         Param #     Connected to                     \n",
      "==================================================================================================\n",
      "input_3 (InputLayer)            [(None, None)]       0                                            \n",
      "__________________________________________________________________________________________________\n",
      "input_4 (InputLayer)            [(None, None)]       0                                            \n",
      "__________________________________________________________________________________________________\n",
      "embedding_2 (Embedding)         (None, None, 300)    4209600     input_3[0][0]                    \n",
      "__________________________________________________________________________________________________\n",
      "embedding_3 (Embedding)         (None, None, 300)    5262300     input_4[0][0]                    \n",
      "__________________________________________________________________________________________________\n",
      "lstm_2 (LSTM)                   [(None, 300), (None, 721200      embedding_2[0][0]                \n",
      "__________________________________________________________________________________________________\n",
      "lstm_3 (LSTM)                   [(None, None, 300),  721200      embedding_3[0][0]                \n",
      "                                                                 lstm_2[0][1]                     \n",
      "                                                                 lstm_2[0][2]                     \n",
      "__________________________________________________________________________________________________\n",
      "dense_1 (Dense)                 (None, None, 17541)  5279841     lstm_3[0][0]                     \n",
      "==================================================================================================\n",
      "Total params: 16,194,141\n",
      "Trainable params: 16,194,141\n",
      "Non-trainable params: 0\n",
      "__________________________________________________________________________________________________\n"
     ]
    }
   ],
   "source": [
    "model.summary()"
   ]
  },
  {
   "cell_type": "markdown",
   "metadata": {
    "id": "gnpinOL4W8mV"
   },
   "source": [
    "### Training"
   ]
  },
  {
   "cell_type": "code",
   "execution_count": 40,
   "metadata": {
    "colab": {
     "base_uri": "https://localhost:8080/",
     "height": 51
    },
    "id": "HobIw9WMW8mW",
    "outputId": "c42579c1-5127-488c-db57-ebae193f5677"
   },
   "outputs": [
    {
     "name": "stdout",
     "output_type": "stream",
     "text": [
      "20000\n",
      "5000\n"
     ]
    }
   ],
   "source": [
    "total_epoch = 20 \n",
    "batch_size=128\n",
    "print(len(x))\n",
    "print(len(x_test))"
   ]
  },
  {
   "cell_type": "code",
   "execution_count": 41,
   "metadata": {
    "colab": {
     "base_uri": "https://localhost:8080/",
     "height": 357
    },
    "id": "ZDA-CodFW8mc",
    "outputId": "a7e8f40a-9908-496d-d2c7-160a36af757d"
   },
   "outputs": [
    {
     "name": "stdout",
     "output_type": "stream",
     "text": [
      "epoch  0 : Loss -  2.9360104259103537  : Time -  83.77555210199989\n",
      "epoch  1 : Loss -  2.619342845864594  : Time -  78.72673368400001\n",
      "epoch  2 : Loss -  2.4912285832688212  : Time -  78.8938471800002\n",
      "epoch  3 : Loss -  2.351404537446797  : Time -  78.65523611599974\n",
      "epoch  4 : Loss -  2.2182665476575494  : Time -  78.89594747700039\n",
      "epoch  5 : Loss -  2.1181943425908685  : Time -  78.91943257799994\n",
      "epoch  6 : Loss -  2.032118909060955  : Time -  78.688580903\n",
      "epoch  7 : Loss -  1.9659181647002697  : Time -  78.74655463399995\n",
      "epoch  8 : Loss -  1.904178117401898  : Time -  78.72915352900009\n",
      "epoch  9 : Loss -  1.8448271974921227  : Time -  78.87344361100031\n",
      "epoch  10 : Loss -  1.7889522602781653  : Time -  79.6591374540003\n",
      "epoch  11 : Loss -  1.7343064807355404  : Time -  80.02940768999997\n",
      "epoch  12 : Loss -  1.6818556133657694  : Time -  78.76834863500017\n",
      "epoch  13 : Loss -  1.6297671040520072  : Time -  78.9103639760001\n",
      "epoch  14 : Loss -  1.5775629598647356  : Time -  79.03705457600017\n",
      "epoch  15 : Loss -  1.527244902215898  : Time -  78.76586112700033\n",
      "epoch  16 : Loss -  1.4772282587364316  : Time -  78.92712565900001\n",
      "epoch  17 : Loss -  1.4287445778027177  : Time -  78.83922280800016\n",
      "epoch  18 : Loss -  1.380346255376935  : Time -  79.2424432810003\n",
      "epoch  19 : Loss -  1.331000425387174  : Time -  79.14893116600024\n"
     ]
    }
   ],
   "source": [
    "loss=[]\n",
    "for i in range(total_epoch):\n",
    "    steps_per_epoch=len(x)//batch_size\n",
    "    print(\"epoch \",i,end=\"\")\n",
    "    curr=0\n",
    "    start=time.process_time()\n",
    "    for k in range(0,steps_per_epoch):\n",
    "        j=k*batch_size\n",
    "        encoder_input=np.zeros((batch_size,max_length_eng),dtype='float32')\n",
    "        decoder_input=np.zeros((batch_size,max_length_hindi),dtype='float32')\n",
    "        decoder_output=np.zeros((batch_size,max_length_hindi,num_decoder_tokens),dtype='float32')\n",
    "        for i, (eng,hindi) in enumerate(zip(x[j:j+batch_size], y[j:j+batch_size])):\n",
    "            eng,hindi=str(eng),str(hindi)\n",
    "            for idx,w in enumerate(eng.split()):\n",
    "                encoder_input[i,idx]=word_to_idx_english[w]\n",
    "            for idx,w in enumerate(hindi.split()):\n",
    "                if idx<len(hindi.split())-1:\n",
    "                    decoder_input[i,idx]=word_to_idx_hindi[w]\n",
    "                if idx>0:\n",
    "                    decoder_output[i,idx-1,word_to_idx_hindi[w]]=1\n",
    "        l=model.train_on_batch([encoder_input,decoder_input],decoder_output) \n",
    "        curr+=l  \n",
    "        loss.append(l)\n",
    "    end=time.process_time()\n",
    "    print(' : Loss - ',curr/batch_size,\" : Time - \",end-start) "
   ]
  },
  {
   "cell_type": "code",
   "execution_count": 48,
   "metadata": {
    "colab": {
     "base_uri": "https://localhost:8080/",
     "height": 364
    },
    "id": "AxEcw5CHxlsX",
    "outputId": "660053dd-5524-4765-ed4b-ea6fd2ae3560"
   },
   "outputs": [
    {
     "data": {
      "text/plain": [
       "<matplotlib.collections.PathCollection at 0x7f7af8f117b8>"
      ]
     },
     "execution_count": 48,
     "metadata": {
      "tags": []
     },
     "output_type": "execute_result"
    },
    {
     "data": {
      "image/png": "[encoded data removed]",
      "text/plain": [
       "<Figure size 576x396 with 1 Axes>"
      ]
     },
     "metadata": {
      "tags": []
     },
     "output_type": "display_data"
    }
   ],
   "source": [
    "import matplotlib.pyplot as plt\n",
    "plt.style.use('seaborn')\n",
    "plt.scatter(np.arange(len(loss)),loss)"
   ]
  },
  {
   "cell_type": "code",
   "execution_count": 43,
   "metadata": {
    "id": "IrfSNUplppUV"
   },
   "outputs": [],
   "source": [
    "model.save_weights('drive/My Drive/model_weights.h5')"
   ]
  },
  {
   "cell_type": "code",
   "execution_count": 53,
   "metadata": {
    "id": "gXppzT73yZOd"
   },
   "outputs": [],
   "source": [
    "model.load_weights('drive/My Drive/model_weights.h5')"
   ]
  },
  {
   "cell_type": "code",
   "execution_count": 54,
   "metadata": {
    "colab": {
     "base_uri": "https://localhost:8080/",
     "height": 34
    },
    "id": "hFASoZMjy3KR",
    "outputId": "5bda3f7f-0d32-431d-9142-ea21690fd953"
   },
   "outputs": [
    {
     "name": "stdout",
     "output_type": "stream",
     "text": [
      "INFO:tensorflow:Assets written to: drive/My Drive/my_model/assets\n"
     ]
    }
   ],
   "source": [
    "model.save('drive/My Drive/my_model')"
   ]
  },
  {
   "cell_type": "code",
   "execution_count": null,
   "metadata": {
    "id": "GJH7d7Wd0FUZ"
   },
   "outputs": [],
   "source": []
  }
 ],
 "metadata": {
  "accelerator": "GPU",
  "colab": {
   "collapsed_sections": [],
   "name": "NMT.ipynb",
   "provenance": []
  },
  "kernelspec": {
   "display_name": "Python 3",
   "language": "python",
   "name": "python3"
  },
  "language_info": {
   "codemirror_mode": {
    "name": "ipython",
    "version": 3
   },
   "file_extension": ".py",
   "mimetype": "text/x-python",
   "name": "python",
   "nbconvert_exporter": "python",
   "pygments_lexer": "ipython3",
   "version": "3.7.6"
  }
 },
 "nbformat": 4,
 "nbformat_minor": 4
}
