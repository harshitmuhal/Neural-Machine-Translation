{
 "cells": [
  {
   "cell_type": "code",
   "execution_count": 11,
   "metadata": {},
   "outputs": [],
   "source": [
    "import numpy as np \n",
    "import pandas as pd \n",
    "import json\n",
    "from sklearn.model_selection import train_test_split"
   ]
  },
  {
   "cell_type": "code",
   "execution_count": 3,
   "metadata": {},
   "outputs": [],
   "source": [
    "df=pd.read_csv('cleaned_data.csv')"
   ]
  },
  {
   "cell_type": "code",
   "execution_count": 4,
   "metadata": {},
   "outputs": [],
   "source": [
    "with open('word_to_idx_english.json','r') as f:\n",
    "    word_to_idx_english=json.load(f)\n",
    "with open('word_to_idx_hindi.json','r') as f:\n",
    "    word_to_idx_hindi=json.load(f)\n",
    "with open('idx_to_word_english.json','r') as f:\n",
    "    idx_to_word_english=json.load(f)\n",
    "with open('idx_to_word_hindi.json','r') as f:\n",
    "    idx_to_word_hindi=json.load(f)"
   ]
  },
  {
   "cell_type": "code",
   "execution_count": 5,
   "metadata": {},
   "outputs": [
    {
     "name": "stdout",
     "output_type": "stream",
     "text": [
      "20 30\n"
     ]
    }
   ],
   "source": [
    "max_length_eng=0\n",
    "for x in df['english_sentence']:\n",
    "    max_length_eng=max(max_length_eng,len(str(x).split()))\n",
    "max_length_hindi=0\n",
    "for x in df['hindi_sentence']:\n",
    "    max_length_hindi=max(max_length_hindi,len(str(x).split()))\n",
    "print(max_length_eng,max_length_hindi)"
   ]
  },
  {
   "cell_type": "code",
   "execution_count": 7,
   "metadata": {},
   "outputs": [],
   "source": [
    "num_encoder_tokens = len(word_to_idx_english) \n",
    "num_decoder_tokens = len(word_to_idx_hindi) "
   ]
  },
  {
   "cell_type": "code",
   "execution_count": 8,
   "metadata": {},
   "outputs": [],
   "source": [
    "num_decoder_tokens+=1\n",
    "#zero padding"
   ]
  },
  {
   "cell_type": "markdown",
   "metadata": {},
   "source": [
    "### Train and test split"
   ]
  },
  {
   "cell_type": "code",
   "execution_count": 12,
   "metadata": {},
   "outputs": [],
   "source": [
    "x, y = df['english_sentence'], df['hindi_sentence']\n",
    "x, x_test, y, y_test = train_test_split(x, y, test_size = 0.2,random_state=42) "
   ]
  },
  {
   "cell_type": "markdown",
   "metadata": {},
   "source": [
    "### Data Generator"
   ]
  },
  {
   "cell_type": "code",
   "execution_count": null,
   "metadata": {},
   "outputs": [],
   "source": [
    "def DataGenerator(x,y,batch_size=128):\n",
    "    run =True\n",
    "    while run:\n",
    "        count=0\n",
    "        for i in range(len(x)):\n",
    "            count+=1\n",
    "            \n",
    "            if count>=batch_size:\n",
    "                run=False\n",
    "                yield [xi,yi]"
   ]
  },
  {
   "cell_type": "markdown",
   "metadata": {},
   "source": [
    "### Model Architecture"
   ]
  },
  {
   "cell_type": "code",
   "execution_count": null,
   "metadata": {},
   "outputs": [],
   "source": []
  },
  {
   "cell_type": "markdown",
   "metadata": {},
   "source": [
    "### Training"
   ]
  },
  {
   "cell_type": "code",
   "execution_count": null,
   "metadata": {},
   "outputs": [],
   "source": []
  },
  {
   "cell_type": "code",
   "execution_count": null,
   "metadata": {},
   "outputs": [],
   "source": []
  }
 ],
 "metadata": {
  "kernelspec": {
   "display_name": "Python 3",
   "language": "python",
   "name": "python3"
  },
  "language_info": {
   "codemirror_mode": {
    "name": "ipython",
    "version": 3
   },
   "file_extension": ".py",
   "mimetype": "text/x-python",
   "name": "python",
   "nbconvert_exporter": "python",
   "pygments_lexer": "ipython3",
   "version": "3.7.6"
  }
 },
 "nbformat": 4,
 "nbformat_minor": 4
}
